{
 "cells": [
  {
   "cell_type": "markdown",
   "metadata": {
    "deletable": true,
    "editable": true
   },
   "source": [
    "## Logistic Regression"
   ]
  },
  {
   "cell_type": "code",
   "execution_count": 1,
   "metadata": {
    "collapsed": true,
    "deletable": true,
    "editable": true
   },
   "outputs": [],
   "source": [
    "from __future__ import print_function"
   ]
  },
  {
   "cell_type": "markdown",
   "metadata": {
    "deletable": true,
    "editable": true
   },
   "source": [
    "### Iris Dataset"
   ]
  },
  {
   "cell_type": "code",
   "execution_count": 2,
   "metadata": {
    "collapsed": false,
    "deletable": true,
    "editable": true
   },
   "outputs": [
    {
     "data": {
      "text/html": [
       "<div>\n",
       "<table border=\"1\" class=\"dataframe\">\n",
       "  <thead>\n",
       "    <tr style=\"text-align: right;\">\n",
       "      <th></th>\n",
       "      <th>sepal length (cm)</th>\n",
       "      <th>sepal width (cm)</th>\n",
       "      <th>petal length (cm)</th>\n",
       "      <th>petal width (cm)</th>\n",
       "    </tr>\n",
       "  </thead>\n",
       "  <tbody>\n",
       "    <tr>\n",
       "      <th>0</th>\n",
       "      <td>5.1</td>\n",
       "      <td>3.5</td>\n",
       "      <td>1.4</td>\n",
       "      <td>0.2</td>\n",
       "    </tr>\n",
       "    <tr>\n",
       "      <th>1</th>\n",
       "      <td>4.9</td>\n",
       "      <td>3.0</td>\n",
       "      <td>1.4</td>\n",
       "      <td>0.2</td>\n",
       "    </tr>\n",
       "    <tr>\n",
       "      <th>2</th>\n",
       "      <td>4.7</td>\n",
       "      <td>3.2</td>\n",
       "      <td>1.3</td>\n",
       "      <td>0.2</td>\n",
       "    </tr>\n",
       "    <tr>\n",
       "      <th>3</th>\n",
       "      <td>4.6</td>\n",
       "      <td>3.1</td>\n",
       "      <td>1.5</td>\n",
       "      <td>0.2</td>\n",
       "    </tr>\n",
       "    <tr>\n",
       "      <th>4</th>\n",
       "      <td>5.0</td>\n",
       "      <td>3.6</td>\n",
       "      <td>1.4</td>\n",
       "      <td>0.2</td>\n",
       "    </tr>\n",
       "  </tbody>\n",
       "</table>\n",
       "</div>"
      ],
      "text/plain": [
       "   sepal length (cm)  sepal width (cm)  petal length (cm)  petal width (cm)\n",
       "0                5.1               3.5                1.4               0.2\n",
       "1                4.9               3.0                1.4               0.2\n",
       "2                4.7               3.2                1.3               0.2\n",
       "3                4.6               3.1                1.5               0.2\n",
       "4                5.0               3.6                1.4               0.2"
      ]
     },
     "execution_count": 2,
     "metadata": {},
     "output_type": "execute_result"
    }
   ],
   "source": [
    "# read in the iris data\n",
    "import pandas as pd\n",
    "import numpy as np\n",
    "from sklearn.datasets import load_iris\n",
    "np.random.seed(0)\n",
    "\n",
    "iris = load_iris()\n",
    "\n",
    "# create X (features) and y (response)\n",
    "X = pd.DataFrame(iris.data,\n",
    "                 columns = iris.feature_names)\n",
    "\n",
    "y = iris.target\n",
    "X.head()"
   ]
  },
  {
   "cell_type": "code",
   "execution_count": 3,
   "metadata": {
    "collapsed": false,
    "deletable": true,
    "editable": true
   },
   "outputs": [
    {
     "data": {
      "text/plain": [
       "array([0, 0, 0, 0, 0, 0, 0, 0, 0, 0])"
      ]
     },
     "execution_count": 3,
     "metadata": {},
     "output_type": "execute_result"
    }
   ],
   "source": [
    "iris.target[:10]"
   ]
  },
  {
   "cell_type": "code",
   "execution_count": 4,
   "metadata": {
    "collapsed": false,
    "deletable": true,
    "editable": true
   },
   "outputs": [
    {
     "data": {
      "text/plain": [
       "array(['setosa', 'versicolor', 'virginica'], \n",
       "      dtype='<U10')"
      ]
     },
     "execution_count": 4,
     "metadata": {},
     "output_type": "execute_result"
    }
   ],
   "source": [
    "iris.target_names"
   ]
  },
  {
   "cell_type": "code",
   "execution_count": 5,
   "metadata": {
    "collapsed": false,
    "deletable": true,
    "editable": true
   },
   "outputs": [
    {
     "data": {
      "text/plain": [
       "array([0, 0, 0, 0, 0])"
      ]
     },
     "execution_count": 5,
     "metadata": {},
     "output_type": "execute_result"
    }
   ],
   "source": [
    "# class names\n",
    "y = iris.target\n",
    "y[:5]"
   ]
  },
  {
   "cell_type": "code",
   "execution_count": 6,
   "metadata": {
    "collapsed": false,
    "deletable": true,
    "editable": true
   },
   "outputs": [
    {
     "data": {
      "text/plain": [
       "array(['setosa', 'setosa', 'setosa', 'setosa', 'setosa'], \n",
       "      dtype='<U10')"
      ]
     },
     "execution_count": 6,
     "metadata": {},
     "output_type": "execute_result"
    }
   ],
   "source": [
    "iris.target_names[iris.target[:5]]"
   ]
  },
  {
   "cell_type": "code",
   "execution_count": 7,
   "metadata": {
    "collapsed": false,
    "deletable": true,
    "editable": true
   },
   "outputs": [],
   "source": [
    "from sklearn.model_selection import train_test_split\n",
    "X_train, X_test, y_train, y_test = train_test_split(\n",
    "    X, y, test_size=0.4, random_state=None)"
   ]
  },
  {
   "cell_type": "markdown",
   "metadata": {
    "deletable": true,
    "editable": true
   },
   "source": [
    "### One versus rest (OVR) multiclass classification"
   ]
  },
  {
   "cell_type": "code",
   "execution_count": 8,
   "metadata": {
    "collapsed": false,
    "deletable": true,
    "editable": true
   },
   "outputs": [
    {
     "data": {
      "text/plain": [
       "LogisticRegression(C=100000, class_weight=None, dual=False,\n",
       "          fit_intercept=True, intercept_scaling=1, max_iter=100,\n",
       "          multi_class='ovr', n_jobs=1, penalty='l2', random_state=None,\n",
       "          solver='liblinear', tol=0.0001, verbose=0, warm_start=False)"
      ]
     },
     "execution_count": 8,
     "metadata": {},
     "output_type": "execute_result"
    }
   ],
   "source": [
    "from sklearn.linear_model import LogisticRegression\n",
    "logreg = LogisticRegression(C=100000)\n",
    "logreg.fit(X_train,y_train)"
   ]
  },
  {
   "cell_type": "code",
   "execution_count": 9,
   "metadata": {
    "collapsed": false,
    "deletable": true,
    "editable": true
   },
   "outputs": [
    {
     "name": "stdout",
     "output_type": "stream",
     "text": [
      "train_score=1.000\n",
      "test_score =0.967\n",
      "\n"
     ]
    }
   ],
   "source": [
    "accuracy_train = logreg.score(X_train, y_train)\n",
    "accuracy_test = logreg.score(X_test, y_test)\n",
    "print(\"train_score=%.3f\\ntest_score =%.3f\\n\" % (accuracy_train, accuracy_test))"
   ]
  },
  {
   "cell_type": "markdown",
   "metadata": {
    "collapsed": false,
    "deletable": true,
    "editable": true
   },
   "source": [
    "### Some attributes of the LogisticRegression class"
   ]
  },
  {
   "cell_type": "code",
   "execution_count": 10,
   "metadata": {
    "collapsed": false,
    "deletable": true,
    "editable": true
   },
   "outputs": [
    {
     "name": "stdout",
     "output_type": "stream",
     "text": [
      "n_iter:\t\t [16]\n",
      "classes:\t [0 1 2]\n",
      "intercepts:\t [   0.98    11.246 -120.001]\n",
      "coefs:\n",
      " [[  1.728   4.741  -8.108  -4.031]\n",
      " [ -1.009  -3.236   1.964  -3.38 ]\n",
      " [-26.644 -48.981  52.938  97.855]]\n"
     ]
    }
   ],
   "source": [
    "np.set_printoptions(precision=3)\n",
    "\n",
    "print('n_iter:\\t\\t', logreg.n_iter_)\n",
    "print('classes:\\t', logreg.classes_)\n",
    "print('intercepts:\\t', logreg.intercept_)\n",
    "print('coefs:\\n', logreg.coef_)"
   ]
  },
  {
   "cell_type": "code",
   "execution_count": 11,
   "metadata": {
    "collapsed": false,
    "deletable": true,
    "editable": true
   },
   "outputs": [
    {
     "data": {
      "text/plain": [
       "array([2, 1, 0, 2, 0, 2, 0, 1, 1, 1])"
      ]
     },
     "execution_count": 11,
     "metadata": {},
     "output_type": "execute_result"
    }
   ],
   "source": [
    "# predict classes for some cases\n",
    "logreg.predict(X_test[:10])"
   ]
  },
  {
   "cell_type": "code",
   "execution_count": 12,
   "metadata": {
    "collapsed": false,
    "deletable": true,
    "editable": true
   },
   "outputs": [
    {
     "data": {
      "text/plain": [
       "array([[ -2.674e+01,  -1.759e+00,   9.315e+01],\n",
       "       [ -1.468e+01,   2.552e+00,  -7.801e+01],\n",
       "       [  1.824e+01,  -5.818e+00,  -3.786e+02],\n",
       "       [ -3.099e+01,   7.897e-01,   5.310e+01],\n",
       "       [  1.277e+01,  -2.528e+00,  -3.208e+02],\n",
       "       [ -3.121e+01,  -2.452e+00,   1.128e+02],\n",
       "       [  1.447e+01,  -3.583e+00,  -3.265e+02],\n",
       "       [ -1.689e+01,  -1.381e+00,  -5.476e+01],\n",
       "       [ -1.855e+01,   2.327e-02,  -4.723e+01],\n",
       "       [ -1.287e+01,  -5.041e-01,  -8.071e+01]])"
      ]
     },
     "execution_count": 12,
     "metadata": {},
     "output_type": "execute_result"
    }
   ],
   "source": [
    "# decision function = log-odds =  values of X dot Beta for each class.\n",
    "logreg.decision_function(X_test[:10])"
   ]
  },
  {
   "cell_type": "code",
   "execution_count": 13,
   "metadata": {
    "collapsed": false,
    "deletable": true,
    "editable": true
   },
   "outputs": [
    {
     "data": {
      "text/plain": [
       "array([[  2.121e-012,   1.281e-001,   8.719e-001],\n",
       "       [  4.541e-007,   1.000e+000,   1.417e-034],\n",
       "       [  9.970e-001,   2.957e-003,   3.847e-165],\n",
       "       [  2.068e-014,   4.075e-001,   5.925e-001],\n",
       "       [  9.312e-001,   6.881e-002,   4.547e-140],\n",
       "       [  2.593e-014,   7.349e-002,   9.265e-001],\n",
       "       [  9.737e-001,   2.633e-002,   1.591e-142],\n",
       "       [  2.293e-007,   1.000e+000,   8.193e-024],\n",
       "       [  1.736e-008,   1.000e+000,   6.110e-021],\n",
       "       [  6.826e-006,   1.000e+000,   2.354e-035]])"
      ]
     },
     "execution_count": 13,
     "metadata": {},
     "output_type": "execute_result"
    }
   ],
   "source": [
    "logreg.predict_proba(X_test[:10])"
   ]
  },
  {
   "cell_type": "code",
   "execution_count": 14,
   "metadata": {
    "collapsed": false,
    "deletable": true,
    "editable": true
   },
   "outputs": [
    {
     "data": {
      "text/plain": [
       "array([[ -2.688e+01,  -2.055e+00,  -1.371e-01],\n",
       "       [ -1.460e+01,  -4.541e-07,  -7.794e+01],\n",
       "       [ -2.961e-03,  -5.824e+00,  -3.786e+02],\n",
       "       [ -3.151e+01,  -8.977e-01,  -5.234e-01],\n",
       "       [ -7.129e-02,  -2.676e+00,  -3.208e+02],\n",
       "       [ -3.128e+01,  -2.611e+00,  -7.633e-02],\n",
       "       [ -2.669e-02,  -3.637e+00,  -3.265e+02],\n",
       "       [ -1.529e+01,  -2.293e-07,  -5.316e+01],\n",
       "       [ -1.787e+01,  -1.736e-08,  -4.654e+01],\n",
       "       [ -1.189e+01,  -6.826e-06,  -7.973e+01]])"
      ]
     },
     "execution_count": 14,
     "metadata": {},
     "output_type": "execute_result"
    }
   ],
   "source": [
    "logreg.predict_log_proba(X_test[:10])"
   ]
  },
  {
   "cell_type": "markdown",
   "metadata": {
    "deletable": true,
    "editable": true
   },
   "source": [
    "### Plot Decision Boundary"
   ]
  },
  {
   "cell_type": "code",
   "execution_count": 15,
   "metadata": {
    "collapsed": false,
    "deletable": true,
    "editable": true
   },
   "outputs": [
    {
     "data": {
      "image/png": "[encoded data removed]",
      "text/plain": [
       "<matplotlib.figure.Figure at 0x11abd7080>"
      ]
     },
     "metadata": {},
     "output_type": "display_data"
    }
   ],
   "source": [
    "# Plot the decision boundary in 2-d \n",
    "# For that, we will assign a color to each point in the \n",
    "# mesh [x_min, x_max] x [y_min, y_max].\n",
    "\n",
    "import numpy as np\n",
    "from matplotlib import pylab as plt\n",
    "%matplotlib inline\n",
    "\n",
    "def plot_decision_boundary (X,y,model):\n",
    "    Q = X.values\n",
    "    h = .02  # meshsize\n",
    "    x_min, x_max = Q[:, 0].min() - .5, Q[:, 0].max() + .5\n",
    "    y_min, y_max = Q[:, 1].min() - .5, Q[:, 1].max() + .5\n",
    "    xx, yy = np.meshgrid(np.arange(x_min, x_max, h), np.arange(y_min, y_max, h))\n",
    "\n",
    "    model.fit(X.iloc[:,:2],y)\n",
    "    Z = model.predict(np.c_[xx.ravel(), yy.ravel()])\n",
    "\n",
    "    # Put the result into a color plot\n",
    "    Z = Z.reshape(xx.shape)\n",
    "    plt.figure(1, figsize=(8, 6))\n",
    "    plt.pcolormesh(xx, yy, Z, cmap=plt.cm.Paired)\n",
    "\n",
    "    # Plot also the training points\n",
    "    plt.scatter(Q[:, 0], Q[:, 1], c=y, edgecolors='k', cmap=plt.cm.Paired)\n",
    "    plt.title('Decsion boundaries with 2 attributes')\n",
    "    plt.xlabel('Sepal length')\n",
    "    plt.ylabel('Sepal width')\n",
    "\n",
    "    plt.xlim(xx.min(), xx.max())\n",
    "    plt.ylim(yy.min(), yy.max())\n",
    "    plt.xticks(())\n",
    "    plt.yticks(())\n",
    "    \n",
    "plot_decision_boundary (X_train,y_train,LogisticRegression());"
   ]
  },
  {
   "cell_type": "markdown",
   "metadata": {
    "deletable": true,
    "editable": true
   },
   "source": [
    "### LogisticRegressionCV"
   ]
  },
  {
   "cell_type": "code",
   "execution_count": 16,
   "metadata": {
    "collapsed": false,
    "deletable": true,
    "editable": true
   },
   "outputs": [
    {
     "data": {
      "text/plain": [
       "LogisticRegressionCV(Cs=[0.0001, 0.01, 1.0, 100, 10000], class_weight=None,\n",
       "           cv=4, dual=False, fit_intercept=True, intercept_scaling=1.0,\n",
       "           max_iter=100, multi_class='ovr', n_jobs=1, penalty='l2',\n",
       "           random_state=1, refit=True, scoring=None, solver='lbfgs',\n",
       "           tol=0.0001, verbose=0)"
      ]
     },
     "execution_count": 16,
     "metadata": {},
     "output_type": "execute_result"
    }
   ],
   "source": [
    "from sklearn.linear_model import LogisticRegressionCV\n",
    "logregcv = LogisticRegressionCV(Cs=[0.0001, 0.01, 1.0, 100, 10000], cv=4, random_state=1)\n",
    "logregcv.fit(X_train,y_train)"
   ]
  },
  {
   "cell_type": "code",
   "execution_count": 17,
   "metadata": {
    "collapsed": false,
    "deletable": true,
    "editable": true
   },
   "outputs": [
    {
     "name": "stdout",
     "output_type": "stream",
     "text": [
      "train_score=0.911\n",
      "test_score =0.850\n",
      "\n"
     ]
    }
   ],
   "source": [
    "acc_train_cv = logregcv.score(X_train, y_train)\n",
    "acc_test_cv = logregcv.score(X_test, y_test)\n",
    "print(\"train_score=%.3f\\ntest_score =%.3f\\n\" % (acc_train_cv, acc_test_cv))"
   ]
  },
  {
   "cell_type": "code",
   "execution_count": 18,
   "metadata": {
    "collapsed": false,
    "deletable": true,
    "editable": true
   },
   "outputs": [
    {
     "name": "stdout",
     "output_type": "stream",
     "text": [
      "max_iter:\t 43\n",
      "classes:\t [0 1 2]\n",
      "C:\t\t [  1.000e-02   1.000e+02   1.000e+00]\n",
      "intercept:\t [   0.98    11.246 -120.001]\n",
      "coef:\n",
      " [[  1.728   4.741  -8.108  -4.031]\n",
      " [ -1.009  -3.236   1.964  -3.38 ]\n",
      " [-26.644 -48.981  52.938  97.855]]\n"
     ]
    }
   ],
   "source": [
    "print('max_iter:\\t', logregcv.n_iter_.flatten().max())\n",
    "print('classes:\\t', logregcv.classes_)\n",
    "print('C:\\t\\t', logregcv.C_)\n",
    "print('intercept:\\t', logreg.intercept_)\n",
    "print('coef:\\n', logreg.coef_)"
   ]
  },
  {
   "cell_type": "code",
   "execution_count": 19,
   "metadata": {
    "collapsed": false,
    "deletable": true,
    "editable": true,
    "scrolled": true
   },
   "outputs": [
    {
     "data": {
      "text/plain": [
       "{0: array([[ 0.625,  1.   ,  1.   ,  1.   ,  1.   ],\n",
       "        [ 0.609,  1.   ,  1.   ,  1.   ,  1.   ],\n",
       "        [ 0.636,  1.   ,  1.   ,  1.   ,  1.   ],\n",
       "        [ 0.619,  1.   ,  1.   ,  1.   ,  1.   ]]),\n",
       " 1: array([[ 0.708,  0.708,  0.75 ,  0.708,  0.708],\n",
       "        [ 0.696,  0.696,  0.783,  0.826,  0.826],\n",
       "        [ 0.682,  0.682,  0.591,  0.727,  0.727],\n",
       "        [ 0.714,  0.714,  0.81 ,  0.762,  0.762]]),\n",
       " 2: array([[ 0.667,  0.792,  1.   ,  1.   ,  1.   ],\n",
       "        [ 0.696,  0.696,  1.   ,  1.   ,  0.957],\n",
       "        [ 0.682,  0.955,  0.909,  0.955,  0.909],\n",
       "        [ 0.667,  0.714,  1.   ,  0.952,  0.952]])}"
      ]
     },
     "execution_count": 19,
     "metadata": {},
     "output_type": "execute_result"
    }
   ],
   "source": [
    "logregcv.scores_"
   ]
  },
  {
   "cell_type": "code",
   "execution_count": 20,
   "metadata": {
    "collapsed": false,
    "deletable": true,
    "editable": true
   },
   "outputs": [
    {
     "name": "stdout",
     "output_type": "stream",
     "text": [
      "3 100.0\n"
     ]
    }
   ],
   "source": [
    "m = logregcv.scores_[1].reshape(4,5).sum(axis=0).argmax()\n",
    "C = logregcv.Cs_[m]\n",
    "print(m, C)"
   ]
  },
  {
   "cell_type": "code",
   "execution_count": 21,
   "metadata": {
    "collapsed": false,
    "deletable": true,
    "editable": true
   },
   "outputs": [
    {
     "data": {
      "text/plain": [
       "0.73333333333333328"
      ]
     },
     "execution_count": 21,
     "metadata": {},
     "output_type": "execute_result"
    },
    {
     "data": {
      "image/png": "[encoded data removed]",
      "text/plain": [
       "<matplotlib.figure.Figure at 0x1107f5080>"
      ]
     },
     "metadata": {},
     "output_type": "display_data"
    }
   ],
   "source": [
    "lr = LogisticRegression(C=C)\n",
    "plot_decision_boundary(X_train.iloc[:,0:2],y_train,lr)\n",
    "lr.score(X_test.iloc[:,0:2], y_test)"
   ]
  },
  {
   "cell_type": "markdown",
   "metadata": {
    "deletable": true,
    "editable": true
   },
   "source": [
    "Other methods:\n",
    "- class_weights to balance classes"
   ]
  },
  {
   "cell_type": "markdown",
   "metadata": {
    "deletable": true,
    "editable": true
   },
   "source": [
    "### Interpret coeffs"
   ]
  },
  {
   "cell_type": "markdown",
   "metadata": {
    "deletable": true,
    "editable": true
   },
   "source": [
    "- $exp(\\beta_0) \\equiv$  odds of heads when $ x_i = 0 \\ \\forall{i}$\n",
    "- $exp(\\beta_1) \\equiv$  multiplicative increase in odds of heads for unit increas in $x_1$\n",
    "- $odds \\ o = p/(1-p)$\n",
    "- $p = o/(1 + o)$"
   ]
  },
  {
   "cell_type": "code",
   "execution_count": null,
   "metadata": {
    "collapsed": true,
    "deletable": true,
    "editable": true
   },
   "outputs": [],
   "source": []
  },
  {
   "cell_type": "code",
   "execution_count": null,
   "metadata": {
    "collapsed": true,
    "deletable": true,
    "editable": true
   },
   "outputs": [],
   "source": []
  },
  {
   "cell_type": "code",
   "execution_count": null,
   "metadata": {
    "collapsed": true,
    "deletable": true,
    "editable": true
   },
   "outputs": [],
   "source": []
  },
  {
   "cell_type": "code",
   "execution_count": null,
   "metadata": {
    "collapsed": true,
    "deletable": true,
    "editable": true
   },
   "outputs": [],
   "source": []
  },
  {
   "cell_type": "code",
   "execution_count": null,
   "metadata": {
    "collapsed": true,
    "deletable": true,
    "editable": true
   },
   "outputs": [],
   "source": []
  },
  {
   "cell_type": "code",
   "execution_count": null,
   "metadata": {
    "collapsed": true,
    "deletable": true,
    "editable": true
   },
   "outputs": [],
   "source": []
  }
 ],
 "metadata": {
  "kernelspec": {
   "display_name": "Python 3",
   "language": "python",
   "name": "python3"
  },
  "language_info": {
   "codemirror_mode": {
    "name": "ipython",
    "version": 3
   },
   "file_extension": ".py",
   "mimetype": "text/x-python",
   "name": "python",
   "nbconvert_exporter": "python",
   "pygments_lexer": "ipython3",
   "version": "3.5.3"
  }
 },
 "nbformat": 4,
 "nbformat_minor": 2
}
